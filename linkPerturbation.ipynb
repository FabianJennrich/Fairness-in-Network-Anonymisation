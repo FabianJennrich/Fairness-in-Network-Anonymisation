{
 "cells": [
  {
   "cell_type": "markdown",
   "metadata": {},
   "source": [
    "## Link Perturbation\n",
    "\n"
   ]
  },
  {
   "cell_type": "code",
   "execution_count": null,
   "metadata": {},
   "outputs": [],
   "source": [
    "import numpy as np\n",
    "import networkx as nx\n",
    "import random"
   ]
  },
  {
   "cell_type": "code",
   "execution_count": 4,
   "metadata": {},
   "outputs": [],
   "source": [
    "## we use the DD199 graph for testing\n",
    "import pandas as pd\n",
    "DD199 = nx.read_edgelist(\"Data/DD199/DD199.edges\", nodetype=int)\n",
    "\n",
    "BAG = nx.barabasi_albert_graph(20,2)"
   ]
  },
  {
   "cell_type": "code",
   "execution_count": 26,
   "metadata": {},
   "outputs": [],
   "source": [
    "def randomWalk(G:nx.Graph, u, distance):\n",
    "    '''Returns the terminal vertex of a random walk of length distance starting at u'''\n",
    "    vertex = u\n",
    "    for i in range(distance):\n",
    "        vertex = random.choice(list(G.neighbors(vertex)))\n",
    "    return vertex"
   ]
  },
  {
   "cell_type": "code",
   "execution_count": null,
   "metadata": {},
   "outputs": [],
   "source": [
    "def transform(G:nx.Graph, t=5, M=10):\n",
    "    '''Perturb undirected graph G using perturbation t and maximum loop count M\n",
    "    t is the random walk length -> chose 5 from paper results\n",
    "    M is the number of tries to find a suitable edge'''\n",
    "    Gprime = nx.Graph()\n",
    "    Gprime.add_nodes_from(G.nodes())    ## vertices stay the same\n",
    "    for u in G.nodes(): ## foreach u in G\n",
    "        count = 1\n",
    "        for v in G.neighbors(u):    ## foreach neighbor v of u\n",
    "            loop = 1\n",
    "            ## do ... until (u=z OR (u,z) in G') AND (loop <=M)     -> text says opp with makes more sense so we do that\n",
    "            while True:\n",
    "                z = randomWalk(G, v, t-1)   ## t-1 hop rand walk from v\n",
    "                loop += 1\n",
    "                if loop > M:    ## stop if do loop too often\n",
    "                    break\n",
    "                if u != z and (u,z) not in Gprime.edges():  ## this should be correct\n",
    "                    break\n",
    "            if loop <= M:\n",
    "                if G.degree(u) > 1:\n",
    "                    prob = (0.5 * G.degree(u) - 1) / (G.degree(u) - 1)\n",
    "                else:\n",
    "                    prob = 0\n",
    "                if count == 1:\n",
    "                    Gprime.add_edge(u,z)\n",
    "                elif random.random() <= prob:\n",
    "                    Gprime.add_edge(u,z)\n",
    "                count += 1      ## increase count only if an edge was added -> elsewise move on to the next neighbor without increasing count\n",
    "    return Gprime"
   ]
  }
 ],
 "metadata": {
  "kernelspec": {
   "display_name": "Python 3",
   "language": "python",
   "name": "python3"
  },
  "language_info": {
   "codemirror_mode": {
    "name": "ipython",
    "version": 3
   },
   "file_extension": ".py",
   "mimetype": "text/x-python",
   "name": "python",
   "nbconvert_exporter": "python",
   "pygments_lexer": "ipython3",
   "version": "3.11.0"
  }
 },
 "nbformat": 4,
 "nbformat_minor": 2
}
