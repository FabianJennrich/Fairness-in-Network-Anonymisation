{
 "cells": [
  {
   "cell_type": "markdown",
   "metadata": {},
   "source": [
    "## subgraph DP\n",
    "\n",
    "uses normalized mutual friends as metric\n"
   ]
  },
  {
   "cell_type": "code",
   "execution_count": 4,
   "metadata": {},
   "outputs": [],
   "source": [
    "import numpy as np\n",
    "import networkx as nx\n",
    "import random\n",
    "from scipy.stats import laplace"
   ]
  },
  {
   "cell_type": "code",
   "execution_count": 5,
   "metadata": {},
   "outputs": [],
   "source": [
    "## we use the DD199 graph for testing\n",
    "import pandas as pd\n",
    "DD199 = nx.read_edgelist(\"Data/DD199/DD199.edges\", nodetype=int)\n",
    "\n",
    "BAG = nx.barabasi_albert_graph(20,2)"
   ]
  },
  {
   "cell_type": "code",
   "execution_count": 6,
   "metadata": {},
   "outputs": [],
   "source": [
    "def selectEdges(G:nx.graph, k:int, beta):\n",
    "    '''Select edges such that every k-vertex connected subgraph in G is perturbed.\n",
    "    Done by doing Breadth First Search starting at v for v in G and selecting real and virtual edges\n",
    "    '''\n",
    "    ## beta is the ratio of false edges to real edges, i.e. beta = |Ev| / |Er| -> |Ev| = |Er|*beta\n",
    "    Es = []\n",
    "    ## do BFS for each v\n",
    "    for v in G.nodes():\n",
    "        Er_v = list(G.neighbors(v))\n",
    "        Ev_v = [a for a in nx.bfs_tree(G, source=v, depth_limit=k).nodes() if a not in Er_v and a != v]\n",
    "        Es += [(min(v,node),max(v,node)) for node in Er_v + random.sample(Ev_v, int(len(Er_v)* beta))]\n",
    "    return list(set(Es))"
   ]
  },
  {
   "cell_type": "code",
   "execution_count": 7,
   "metadata": {},
   "outputs": [],
   "source": [
    "def computeMetric(G:nx.Graph, Es):\n",
    "    '''computes the normalized mutual friends metric of each pair of vertices in Es m(i,j) = #mutualFriends / 2 * (1/d[i] + 1/d[j])\n",
    "    Returns {(i,j): metric} for all edges in Es'''\n",
    "    ## use itertools to iterate through combinations\n",
    "    ## get intersection of neighborhoods\n",
    "    return {(i,j): len(set(G.neighbors(i)).intersection(G.neighbors(j)))/2 * (1/G.degree(i) + 1/G.degree(j)) for (i,j) in Es}"
   ]
  },
  {
   "cell_type": "code",
   "execution_count": 8,
   "metadata": {},
   "outputs": [],
   "source": [
    "def scale(m:dict, alpha):\n",
    "    '''changes the range of values in m from [0,1] to [alpha,1]'''\n",
    "    ## multiplying by alpha gives range [0,alpha] so we want [0,1] -> [0,1-alpha] -> [alpha, 1]\n",
    "    return {k: v*(1-alpha)+alpha for (k,v) in m.items()}"
   ]
  },
  {
   "cell_type": "code",
   "execution_count": 9,
   "metadata": {},
   "outputs": [],
   "source": [
    "def addNoise(G:nx.Graph, Es, w, sigma, theta):\n",
    "    '''\n",
    "    graph G, edges Es, weights w, priv budg sigma, rewiring threshold theta\n",
    "    random noise is injected into the weight of each e in Es\n",
    "    for each e if w(e) < theta edge is rewired. if w(e) > theta stays the same\n",
    "    random noise follows laplace with mu = 0 and sigma dep on privacy budget epsilon\n",
    "    '''\n",
    "    ## noise addition\n",
    "    noise = laplace.rvs(loc = 0, scale = sigma, size = len(Es))\n",
    "    newWeights = {Es[i]: w[Es[i]] + noise[i] for i in range(len(Es))}     ## edge : weight + noise\n",
    "\n",
    "    ## graph rewiring\n",
    "    Ganon = G.copy()\n",
    "    for edge in Es:\n",
    "        if newWeights[edge] <= theta:\n",
    "            if edge in G.edges(): ## rewiring means edge changes state from real to virtual\n",
    "                Ganon.remove_edge(*edge)\n",
    "            else:\n",
    "                Ganon.add_edge(*edge)\n",
    "    \n",
    "    return Ganon"
   ]
  },
  {
   "cell_type": "code",
   "execution_count": 10,
   "metadata": {},
   "outputs": [],
   "source": [
    "def perturbGraph(G:nx.Graph, k = 5, epsilon = 5, beta=0.5):\n",
    "    '''graph G, subgraph depth k, priv. budget epsilon, ratio of false to true edges beta'''\n",
    "    Es = selectEdges(G,k, beta)   ## Es = set of edges of form (min, max) -> no reps \n",
    "\n",
    "    Nk = k*(k-1)/2\n",
    "    epsilon_i = epsilon/Nk\n",
    "    sigma = -(1/np.log(2/(np.exp(epsilon_i)+1)))\n",
    "\n",
    "    M = computeMetric(G, Es)    ## computes only for Es\n",
    "    alpha = np.exp(-1/sigma)\n",
    "    M = scale(M,alpha)\n",
    "    \n",
    "    w = {key: -sigma*np.log(value) for (key,value) in M.items()}        ## assigns a weight to each edge -> after metric scaling\n",
    "    Gprime = addNoise(G, Es, w, sigma, theta = 0)\n",
    "    return Gprime"
   ]
  },
  {
   "cell_type": "code",
   "execution_count": 11,
   "metadata": {},
   "outputs": [],
   "source": [
    "BAGanon = perturbGraph(BAG)"
   ]
  }
 ],
 "metadata": {
  "kernelspec": {
   "display_name": "Python 3 (ipykernel)",
   "language": "python",
   "name": "python3"
  },
  "language_info": {
   "codemirror_mode": {
    "name": "ipython",
    "version": 3
   },
   "file_extension": ".py",
   "mimetype": "text/x-python",
   "name": "python",
   "nbconvert_exporter": "python",
   "pygments_lexer": "ipython3",
   "version": "3.11.0"
  }
 },
 "nbformat": 4,
 "nbformat_minor": 4
}
