{
 "cells": [
  {
   "cell_type": "markdown",
   "metadata": {},
   "source": [
    "## Random walk based anon\n"
   ]
  },
  {
   "cell_type": "code",
   "execution_count": 2,
   "metadata": {},
   "outputs": [],
   "source": [
    "import numpy as np\n",
    "import networkx as nx\n",
    "import random"
   ]
  },
  {
   "cell_type": "code",
   "execution_count": 3,
   "metadata": {},
   "outputs": [],
   "source": [
    "## we use the DD199 graph for testing\n",
    "import pandas as pd\n",
    "DD199 = nx.read_edgelist(\"Data/DD199/DD199.edges\", nodetype=int)\n",
    "\n",
    "## we also consider a 20 node BA graph\n",
    "BAG = nx.barabasi_albert_graph(20,2)"
   ]
  },
  {
   "cell_type": "code",
   "execution_count": 4,
   "metadata": {},
   "outputs": [],
   "source": [
    "def randomWalk(G:nx.Graph, u, distance):\n",
    "    '''Returns the terminal vertex of a random walk of length distance starting at u'''\n",
    "    vertex = u\n",
    "    for i in range(distance):\n",
    "        vertex = random.choice(list(G.neighbors(vertex)))\n",
    "    return vertex"
   ]
  },
  {
   "cell_type": "code",
   "execution_count": 5,
   "metadata": {},
   "outputs": [],
   "source": [
    "def degreePerturbation(G:nx.Graph, tc, Mc=10):\n",
    "    G1 = G.copy()\n",
    "    nthresh = np.quantile(sorted([d for n,d in G1.degree()], reverse=True),0.1)    ## threshold for top 10% of degrees\n",
    "    N = [n for n,d in G1.degree() if d >= nthresh]   ## nodes with degree in top 10%\n",
    "    for u in N:\n",
    "        count = 1\n",
    "        while True:\n",
    "            v = randomWalk(G1,u,tc)\n",
    "            degu = G1.degree(u)\n",
    "            degv = G1.degree(v)\n",
    "            count += 1\n",
    "            if count > Mc:       ## continue if count <= M\n",
    "                break\n",
    "            if degv <= degu:    ## continue if degv > degu\n",
    "                break\n",
    "        if count <= Mc:\n",
    "            Nv = G1.neighbors(v)\n",
    "            Nucond = [node for node in G1.neighbors(u) if node != v and node not in Nv]\n",
    "            ## Nu = randomly choose (degu - degv) nodes from neighbors of u s.t.\n",
    "            ## v not in Nu and Nu intersection Nv = 0\n",
    "            Nu = random.sample(Nucond, k=degu-degv)\n",
    "            for z in Nu:\n",
    "                G1.remove_edge(u,z)\n",
    "                G1.add_edge(v,z)\n",
    "            ## end for\n",
    "        ## end if\n",
    "    ## end for\n",
    "    return G1"
   ]
  },
  {
   "cell_type": "code",
   "execution_count": 7,
   "metadata": {},
   "outputs": [],
   "source": [
    "def linkPerturbation(G1:nx.Graph,t,M0=10):\n",
    "    Gprime = nx.Graph()\n",
    "    for u in G1.nodes():\n",
    "        number = 1\n",
    "        for v in G1.neighbors(u):\n",
    "            count = 1\n",
    "            while True:\n",
    "                z = randomWalk(G1,v, t-1)\n",
    "                count += 1\n",
    "                if count > M0:  ## continue if count small enough\n",
    "                    break\n",
    "                if u != z and (u,z) not in Gprime.edges():  ## continue if u=z or (u,z) already exists\n",
    "                    break\n",
    "            if count <= M0:\n",
    "                if number == 1:\n",
    "                    Gprime.add_edge(u,z)\n",
    "                else:\n",
    "                    prob = (0.5 * G1.degree(u) - 1) / (G1.degree(u) - 1)\n",
    "                    if random.random() <= prob:\n",
    "                        Gprime.add_edge(u,z)\n",
    "                ## end if\n",
    "            ## end if\n",
    "        ## end for\n",
    "        number += 1\n",
    "    ## end for\n",
    "    return Gprime"
   ]
  },
  {
   "cell_type": "code",
   "execution_count": null,
   "metadata": {},
   "outputs": [],
   "source": [
    "def rwAnon(G:nx.Graph):\n",
    "    tc = 5\n",
    "    t = 5\n",
    "    ## default for Mc and M0 = 10\n",
    "    G1 = degreePerturbation(G, tc) \n",
    "    return linkPerturbation(G1, t)"
   ]
  }
 ],
 "metadata": {
  "kernelspec": {
   "display_name": "Python 3",
   "language": "python",
   "name": "python3"
  },
  "language_info": {
   "codemirror_mode": {
    "name": "ipython",
    "version": 3
   },
   "file_extension": ".py",
   "mimetype": "text/x-python",
   "name": "python",
   "nbconvert_exporter": "python",
   "pygments_lexer": "ipython3",
   "version": "3.11.0"
  }
 },
 "nbformat": 4,
 "nbformat_minor": 2
}
