{
 "cells": [
  {
   "cell_type": "markdown",
   "metadata": {},
   "source": [
    "## EN-DP\n",
    "\n"
   ]
  },
  {
   "cell_type": "code",
   "execution_count": null,
   "metadata": {},
   "outputs": [],
   "source": [
    "import numpy as np\n",
    "import networkx as nx"
   ]
  },
  {
   "cell_type": "code",
   "execution_count": 3,
   "metadata": {},
   "outputs": [],
   "source": [
    "## we use the DD199 graph for testing\n",
    "import pandas as pd\n",
    "DD199 = nx.read_edgelist(\"Data/DD199/DD199.edges\", nodetype=int)\n",
    "\n",
    "BAG = nx.barabasi_albert_graph(20,2)"
   ]
  },
  {
   "cell_type": "code",
   "execution_count": 25,
   "metadata": {},
   "outputs": [],
   "source": [
    "def projectionOrderedEdgeInsertion(G:nx.Graph):\n",
    "    theta = np.quantile([d for n,d in G.degree()], 0.8)\n",
    "    E_theta = []\n",
    "    d = {node: 0 for node in G.nodes()}\n",
    "    Vprime = sorted(G.nodes(), key = lambda node: G.degree(node), reverse=True)   ## sorted node list based on deg [(node,maxdeg),...,(node,mindeg)]\n",
    "    for v in Vprime:\n",
    "        if d[v] <theta:\n",
    "            neigh_v = G.neighbors(v) \n",
    "            u = sorted(neigh_v, key = lambda node:d[node])[0]\n",
    "            if d[u] <theta:\n",
    "                E_theta.append((u,v))\n",
    "                d[u] += 1\n",
    "                d[v] += 1\n",
    "    Ganon = nx.Graph()\n",
    "    Ganon.add_nodes_from(G.nodes())\n",
    "    Ganon.add_edges_from(E_theta)\n",
    "    return Ganon"
   ]
  },
  {
   "cell_type": "code",
   "execution_count": 7,
   "metadata": {},
   "outputs": [],
   "source": [
    "BAGanon = projectionOrderedEdgeInsertion(BAG)"
   ]
  },
  {
   "cell_type": "code",
   "execution_count": 9,
   "metadata": {},
   "outputs": [
    {
     "data": {
      "text/plain": [
       "36"
      ]
     },
     "execution_count": 9,
     "metadata": {},
     "output_type": "execute_result"
    }
   ],
   "source": [
    "BAG.number_of_edges()"
   ]
  },
  {
   "cell_type": "code",
   "execution_count": 8,
   "metadata": {},
   "outputs": [
    {
     "data": {
      "text/plain": [
       "18"
      ]
     },
     "execution_count": 8,
     "metadata": {},
     "output_type": "execute_result"
    }
   ],
   "source": [
    "BAGanon.number_of_edges()"
   ]
  }
 ],
 "metadata": {
  "kernelspec": {
   "display_name": "Python 3",
   "language": "python",
   "name": "python3"
  },
  "language_info": {
   "codemirror_mode": {
    "name": "ipython",
    "version": 3
   },
   "file_extension": ".py",
   "mimetype": "text/x-python",
   "name": "python",
   "nbconvert_exporter": "python",
   "pygments_lexer": "ipython3",
   "version": "3.11.0"
  }
 },
 "nbformat": 4,
 "nbformat_minor": 2
}
