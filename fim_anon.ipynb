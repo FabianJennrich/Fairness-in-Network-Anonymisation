{
 "cells": [
  {
   "cell_type": "markdown",
   "id": "608534cb-c40e-4f43-abec-4ba8d680ed29",
   "metadata": {},
   "source": [
    "## FiM anon\n",
    "\n",
    "We implement single FiM, and apply it to a certain percentage of each node's connections\n",
    "\n",
    "take some subset of nodes from the graph (50) to be FiM nodes. These are chosen uniformly at random from the original node set. We apply the FiM to at least 20% of each node's connections. The connections we choose again uniformly at random.\n",
    "\n",
    "The implementation of this is not detailed in the paper. We implement this method by iterating through the nods of the graph, and for each of its neighbors adding with probability 0.8 the original edge, and with probability 0.2 two edges from each of the original endpoints to one of the FiM nodes. To prevent a connection being FiM from one endpoint, and not from the other, if we add FiM node to a connection, the connection is added to a list of non-edges, which are removed from the graph at a last step. We create a fixed list of FiM nodes, and iterate through them at each edge addition, so that ideally the nodes do not reuse FiM nodes. The FiM nodes are chosen uniformly at random from the node set of the original graph. Using relatively many FiM nodes (compared to avg deg) means that it is unlikely for FiM nodes to choose themselves as the FiM in a connection.\n",
    "\n",
    "The time complexity of this algorithm is O(n*h) where h is the average degree of the network.\n",
    "We use 50 as a the fixed number of FiM nodes. We do single per node FiM. single FiM was easiest, and more hops did not seem to give much additional privacy (from papers results). per node FiM gave notably better results than per network FiM.\n",
    "\n",
    "my implementation has the problem that for some connections both the original and the FiM edges are in the network. "
   ]
  },
  {
   "cell_type": "code",
   "execution_count": 8,
   "id": "8527e69d",
   "metadata": {
    "vscode": {
     "languageId": "plaintext"
    }
   },
   "outputs": [],
   "source": [
    "import networkx as nx\n",
    "import random\n",
    "import time"
   ]
  },
  {
   "cell_type": "code",
   "execution_count": 40,
   "id": "4d6b2cd4",
   "metadata": {
    "vscode": {
     "languageId": "plaintext"
    }
   },
   "outputs": [],
   "source": [
    "def fim_anon(G:nx.Graph):\n",
    "    ##starttime = time.time()\n",
    "    fim_nodes = random.sample(list(G.nodes()),k=50)\n",
    "    ## can construct it from largest to smallest deg node, i.e.\n",
    "    ## can iterate through the FiM nodes in order, so that we dont get duplicates\n",
    "    ## we need percentage of max deg FiM nodes\n",
    "    ## for each node's neighbors, we add either that edge, or an FiM edge -> O(n^2) or O(n*h) h avg deg\n",
    "    edgeList = []\n",
    "    nonEdgeList = []\n",
    "    fim_iterator = 0\n",
    "    for n in G.nodes():\n",
    "        for v in G.neighbors(n):\n",
    "            if random.random() <= 0.2:\n",
    "                edgeList.append((n,fim_nodes[fim_iterator]))\n",
    "                edgeList.append((fim_nodes[fim_iterator],v))\n",
    "                nonEdgeList.append((n,v))\n",
    "            else:\n",
    "                edgeList.append((n,v))\n",
    "            fim_iterator = (fim_iterator + 1)%50\n",
    "    Ganon = nx.Graph()\n",
    "    Ganon.add_nodes_from(G.nodes())\n",
    "    Ganon.add_edges_from(edgeList)\n",
    "    Ganon.remove_edges_from(nonEdgeList)\n",
    "    ##print(time.time()-starttime)\n",
    "    return Ganon\n",
    "\n",
    "## can maybe be made more efficient by going through the edges of the graph instead\n",
    "                "
   ]
  },
  {
   "cell_type": "code",
   "execution_count": 38,
   "id": "23381de3-fe49-4458-adf1-94760e606f8e",
   "metadata": {},
   "outputs": [],
   "source": [
    "BAG = nx.barabasi_albert_graph(1000, 10)"
   ]
  },
  {
   "cell_type": "code",
   "execution_count": 39,
   "id": "d15e3a71-951b-4806-bb8a-83d090e40324",
   "metadata": {},
   "outputs": [
    {
     "name": "stdout",
     "output_type": "stream",
     "text": [
      "0.011672019958496094\n"
     ]
    }
   ],
   "source": [
    "BAGanon = fim_anon(BAG)\n",
    "## pretty exactly O(n*h), n=1k h=20 0.02s, n=1k h=50 0.05s, n=10k h=50 0.65s, n=10k h=100 1,4s"
   ]
  }
 ],
 "metadata": {
  "kernelspec": {
   "display_name": "Python 3 (ipykernel)",
   "language": "python",
   "name": "python3"
  },
  "language_info": {
   "codemirror_mode": {
    "name": "ipython",
    "version": 3
   },
   "file_extension": ".py",
   "mimetype": "text/x-python",
   "name": "python",
   "nbconvert_exporter": "python",
   "pygments_lexer": "ipython3",
   "version": "3.11.0"
  }
 },
 "nbformat": 4,
 "nbformat_minor": 5
}
