{
 "cells": [
  {
   "cell_type": "markdown",
   "metadata": {},
   "source": [
    "## Link Mirage\n",
    "\n",
    "as facebook app, which is now defunct\n",
    "uses static and temporal topology -> seems to be able to do just static as well\n",
    "    - cluster into several communities and then perturb links within and between communities\n",
    "    - 1 cluster, 2 perturbation\n",
    "        - maximum modularity clustering [31]\n",
    "        "
   ]
  },
  {
   "cell_type": "code",
   "execution_count": null,
   "metadata": {},
   "outputs": [],
   "source": [
    "import numpy as np\n",
    "import networkx as nx\n",
    "import random\n",
    "from itertools import combinations"
   ]
  },
  {
   "cell_type": "code",
   "execution_count": 4,
   "metadata": {},
   "outputs": [],
   "source": [
    "## we use the DD199 graph for testing\n",
    "import pandas as pd\n",
    "DD199 = nx.read_edgelist(\"Data/DD199/DD199.edges\", nodetype=int)\n",
    "\n",
    "BAG = nx.barabasi_albert_graph(20,2)"
   ]
  },
  {
   "cell_type": "code",
   "execution_count": 36,
   "metadata": {},
   "outputs": [],
   "source": [
    "def randomWalk(G:nx.Graph, u, distance):\n",
    "    '''Returns the terminal vertex of a random walk of length distance starting at u'''\n",
    "    vertex = u\n",
    "    for i in range(distance):\n",
    "        vertex = random.choice(list(G.neighbors(vertex)))\n",
    "    return vertex"
   ]
  },
  {
   "cell_type": "code",
   "execution_count": 49,
   "metadata": {},
   "outputs": [],
   "source": [
    "def transform(G:nx.Graph, t=5, M=10):\n",
    "    '''Returns a list of perturbed edges for graph G\n",
    "    t is the random walk length -> chose 5 from paper results\n",
    "    M is the number of tries to find a suitable edge'''\n",
    "    GprimeEdges = []\n",
    "    for u in G.nodes(): ## foreach u in G\n",
    "        count = 1\n",
    "        for v in G.neighbors(u):    ## foreach neighbor v of u\n",
    "            loop = 1\n",
    "            ## do ... until (u=z OR (u,z) in G') AND (loop <=M)     -> text says opp with makes more sense so we do that\n",
    "            while True:\n",
    "                z = randomWalk(G, v, t-1)   ## t-1 hop rand walk from v\n",
    "                loop += 1\n",
    "                if loop <= M:\n",
    "                    break\n",
    "                if u != z and (u,z) not in GprimeEdges and (z,u) not in GprimeEdges:  ## this should be correct\n",
    "                    break\n",
    "            if loop <= M:\n",
    "                if G.degree(u) > 1:\n",
    "                    prob = (0.5 * G.degree(u) - 1) / (G.degree(u) - 1)\n",
    "                else:\n",
    "                    prob = 0\n",
    "                if count == 1:\n",
    "                    GprimeEdges.append((u,z))\n",
    "                elif random.random() <= prob:\n",
    "                    GprimeEdges.append((u,z))\n",
    "                count += 1      ## increase count only if an edge was added -> elsewise move on to the next neighbor without increasing count\n",
    "    return GprimeEdges"
   ]
  },
  {
   "cell_type": "code",
   "execution_count": 51,
   "metadata": {},
   "outputs": [],
   "source": [
    "def staticPerturbation(G:nx.Graph, Gprime:nx.Graph, C, k):\n",
    "    '''Perturbs the changed communities as in linkPerturbation \n",
    "    takes original graph G, graph to be modified Gprime, and list of node sets C\n",
    "    modifies in place Gprime'''\n",
    "    ## do transform for subgraphs induced by the communities\n",
    "    for nodes in C:\n",
    "        subGraph = G.subgraph(nodes)\n",
    "        newEdges = transform(subGraph, t=k)\n",
    "        if newEdges:    ## if newEdges not empty\n",
    "            Gprime.add_edges_from(newEdges) ## vertices should stay the same because we do everything by node id"
   ]
  },
  {
   "cell_type": "code",
   "execution_count": null,
   "metadata": {},
   "outputs": [],
   "source": [
    "def marginalNodes(G:nx.Graph, a, b):\n",
    "    '''Returns lists of marginal nodes in communities a and b, where a and b are sets of nodes in graph G\n",
    "    va = [(node, num neighbors in b)], vb = [(node, num neighbors in a)]'''\n",
    "    ## nodes in a s.t. the intersection of its neighbors with b is nonempty\n",
    "\n",
    "    return [(v, len(set(G.neighbors(v)).intersection(b))) for v in a if set(G.neighbors(v)).intersection(b)], [(v,len(set(G.neighbors(v)).intersection(a))) for v in b if set(G.neighbors(v)).intersection(a)]"
   ]
  },
  {
   "cell_type": "code",
   "execution_count": null,
   "metadata": {},
   "outputs": [],
   "source": [
    "def linkMirage(G:nx.Graph, k=5):\n",
    "    '''LinkMirage algorithm with k the perturbation level for each community'''\n",
    "    Gprime = nx.Graph()\n",
    "    Gprime.add_nodes_from(G.nodes())    ## has same nodes\n",
    "    ## if t == 0:\n",
    "    C0 = nx.community.greedy_modularity_communities(G)  ## cluster G0 to get C0     ## C0 is a list of frozen sets of nodes -> immutable set\n",
    "    C0_ch = C0  ## label C0 as changed, i.e. C0_ch = C0\n",
    "\n",
    "    ## Dynamic Clustering -> unnecc\n",
    "\n",
    "    ## Selective Perturbation\n",
    "    ## get changed and unchanged communities -> all changed so just C0_ch\n",
    "    ## G't_un = G'(t-1)_un -> transfer unchanged communities as is\n",
    "\n",
    "    ## intra-cluster Perturbation\n",
    "    staticPerturbation(G, Gprime, C0_ch, k)    ## perturb Ct_ch for G't_ch by static method    ## needs G for perturbation, modify Gprime in place\n",
    "\n",
    "    ## inter-cluster perturbation\n",
    "    for (a,b) in combinations(C0_ch, 2):    ## all combos of communities\n",
    "        ## if both unchanged -> unnecc, all changed\n",
    "        va, vb = marginalNodes(G,a,b)   ## get marginal node sets\n",
    "        len_E_ab = sum(deg for _,deg in va) \n",
    "        for (i,di) in va:\n",
    "            for (j,dj) in vb:\n",
    "                prob = di*dj*len(va) / (len_E_ab * (len(va)+len(vb)))\n",
    "                if random.random() <= prob:\n",
    "                    Gprime.add_edge(i,j)\n",
    "    ## end Selective Perturbation\n",
    "    return Gprime"
   ]
  }
 ],
 "metadata": {
  "kernelspec": {
   "display_name": "Python 3",
   "language": "python",
   "name": "python3"
  },
  "language_info": {
   "codemirror_mode": {
    "name": "ipython",
    "version": 3
   },
   "file_extension": ".py",
   "mimetype": "text/x-python",
   "name": "python",
   "nbconvert_exporter": "python",
   "pygments_lexer": "ipython3",
   "version": "3.11.0"
  }
 },
 "nbformat": 4,
 "nbformat_minor": 2
}
