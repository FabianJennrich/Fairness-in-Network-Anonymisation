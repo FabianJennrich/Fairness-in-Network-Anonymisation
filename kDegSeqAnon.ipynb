{
 "cells": [
  {
   "cell_type": "markdown",
   "id": "390fffee-ab10-407f-999d-93a8dbf655ce",
   "metadata": {},
   "source": [
    "## k-degree sequence Anonymisation\n",
    "\n",
    "I was initially hoping to use the java implemntaition byt that straight up does not work for the HBA graphs I tried it on.\n",
    "\n",
    "The algorithm works by first grouping the degree sequence into groups with at least k elements. Each group is given a target degree, and the edges of the graph are modified to fit the target degree sequence.\n",
    "\n",
    "Uses the optimal univariate micro-aggrefation to achieve best group distribution. Then compute values for each group that minimize delta from original deg seq. delta = sum from  i=1 to n of |d_i tilde - d_i|.\n",
    "\n",
    "compute the groups g = {g1,...,gp} n/k<=p<=2/(2k-1) each group between k and 2k-1 items\n",
    "compute M (p x 2) first col is sum of differences between each element of the group and the arithmetic mean of all degrees that pelong to the group using floor funtion to round the mean value. Second column is the same but the ceiling function is used. \n",
    "mj1 = sum over di in gj of (di - floor(<gj>)) where <gj> is the avg value of di in gj."
   ]
  },
  {
   "cell_type": "code",
   "execution_count": 13,
   "id": "66610b36-189d-48a8-a583-f027157de090",
   "metadata": {},
   "outputs": [],
   "source": [
    "import networkx as nx\n",
    "import numpy as np"
   ]
  },
  {
   "cell_type": "code",
   "execution_count": 10,
   "id": "57fecbe4-c00a-474c-91f0-233e7d91feaf",
   "metadata": {},
   "outputs": [],
   "source": [
    "from microagg1d import univariate_microaggregation"
   ]
  },
  {
   "cell_type": "code",
   "execution_count": 23,
   "id": "804b9ca4-d84c-4991-b639-0a8f0b119da9",
   "metadata": {},
   "outputs": [],
   "source": [
    "DD199 = nx.read_edgelist(\"Data/DD199/DD199.edges\", nodetype=int)\n",
    "\n",
    "BAG = nx.barabasi_albert_graph(20, 2)"
   ]
  },
  {
   "cell_type": "code",
   "execution_count": 39,
   "id": "84d460ad-1dd9-419b-a0e3-21925ae145ed",
   "metadata": {},
   "outputs": [],
   "source": [
    "def greedyDegSeqAnon(m, probs, maxIt = 20):\n",
    "    '''Values for mj are selected acc to prob distribution based on size of mj1 and mj2.\n",
    "    process is finished when a solution is found s.t. sum j=1 to p of mj = 0\n",
    "    or when we go a certain number of iterations without change.'''\n",
    "    ## selects based on probabilities\n",
    "    ## saves best solution (w.r.t. the sum of all els)\n",
    "    ## if no change within 20 iters, stop\n",
    "\n",
    "    ## just get some option to start\n",
    "    bestM = {j: m[j][0] if random.random() <= probs[j][0] else m[j][1] for j in m}\n",
    "    sumM = abs(sum(bestM.values()))\n",
    "\n",
    "    ## select new option\n",
    "    daysSinceLastChange = 0\n",
    "    while daysSinceLastChange < maxIt:\n",
    "        newM = {j: m[j][0] if random.random() <= probs[j][0] else m[j][1] for j in m}\n",
    "        if abs(sum(newM.values())) < sumM:\n",
    "            bestM = newM\n",
    "            sumM = abs(sum(newM.values()))\n",
    "            daysSinceLastChange = 0\n",
    "        else:\n",
    "            daysSinceLastChange += 1\n",
    "    return bestM"
   ]
  },
  {
   "cell_type": "code",
   "execution_count": 14,
   "id": "8669b44b-4a1d-4ef3-b027-339253b85b59",
   "metadata": {},
   "outputs": [],
   "source": [
    "import random"
   ]
  },
  {
   "cell_type": "code",
   "execution_count": 1,
   "id": "c729cfe6-e0d5-4702-989c-cc573ab62080",
   "metadata": {},
   "outputs": [
    {
     "ename": "NameError",
     "evalue": "name 'nx' is not defined",
     "output_type": "error",
     "traceback": [
      "\u001b[0;31m---------------------------------------------------------------------------\u001b[0m",
      "\u001b[0;31mNameError\u001b[0m                                 Traceback (most recent call last)",
      "Cell \u001b[0;32mIn[1], line 1\u001b[0m\n\u001b[0;32m----> 1\u001b[0m \u001b[38;5;28;01mdef\u001b[39;00m \u001b[38;5;21mk_degSeq_Anon\u001b[39m(G:\u001b[43mnx\u001b[49m\u001b[38;5;241m.\u001b[39mGraph(), k\u001b[38;5;241m=\u001b[39m \u001b[38;5;241m10\u001b[39m):    \n\u001b[1;32m      2\u001b[0m     \u001b[38;5;66;03m## clustering the degree sequence\u001b[39;00m\n\u001b[1;32m      3\u001b[0m     d \u001b[38;5;241m=\u001b[39m \u001b[38;5;28msorted\u001b[39m(\u001b[38;5;28mdict\u001b[39m(G\u001b[38;5;241m.\u001b[39mdegree())\u001b[38;5;241m.\u001b[39mitems(), key \u001b[38;5;241m=\u001b[39m \u001b[38;5;28;01mlambda\u001b[39;00m x: x[\u001b[38;5;241m1\u001b[39m], reverse \u001b[38;5;241m=\u001b[39m \u001b[38;5;28;01mTrue\u001b[39;00m)\n\u001b[1;32m      4\u001b[0m     nodesL \u001b[38;5;241m=\u001b[39m [n \u001b[38;5;28;01mfor\u001b[39;00m (n,_) \u001b[38;5;129;01min\u001b[39;00m d]\n",
      "\u001b[0;31mNameError\u001b[0m: name 'nx' is not defined"
     ]
    }
   ],
   "source": [
    "def k_degSeq_Anon(G:nx.Graph(), k= 10):    \n",
    "    ## clustering the degree sequence\n",
    "    d = sorted(dict(G.degree()).items(), key = lambda x: x[1], reverse = True)\n",
    "    nodesL = [n for (n,_) in d]\n",
    "    degL = [deg for (_,deg) in d]\n",
    "    clusters = univariate_microaggregation(degL, k=k)\n",
    "    ## list of cluster numbers, ordered as in nodesL\n",
    "\n",
    "    ## want to create mj1 and mj2 for each group j\n",
    "    ## need the avg deg of each cluster\n",
    "    ## create dictionary s.t. key is cluster number, and value is list of corresponding nodes\n",
    "    clusters_degsDict = {j:[] for j in set(clusters)} ## get only the cluster numbers\n",
    "    for i in range(len(degL)):\n",
    "        clusters_degsDict[clusters[i]].append(degL[i])\n",
    "    ## now we have clustersDict as {cluster number: [di,...,dn]} for i,...,n in cluster\n",
    "    sumd = {j:(sum(clusters_degsDict[j]), len(clusters_degsDict[j])) for j in clusters_degsDict}\n",
    "    m = {j:(sumd[j][0]-sumd[j][1]*np.floor(sumd[j][0] / sumd[j][1]), sumd[j][0]-sumd[j][1]*np.ceil(sumd[j][0] / sumd[j][1])) for j in sumd}\n",
    "    probs = {j:(1- m[j][0]/(m[j][0]-m[j][1]),1 + m[j][1]/(m[j][0]-m[j][1])) for j in m}\n",
    "    ## use implied def for probs rather than stated (stated def not in range[0,1])\n",
    "    ## sometimes encounters div 0 error, but that seems fine, since => mj1=mj2=0, so no change necc\n",
    "    \n",
    "    bestM = greedyDegSeqAnon(m, probs)\n",
    "    ## bestM is a dictionary {j: mj1 or mj2}\n",
    "    ## we know which one based on the sign, if (-) then mj2\n",
    "    targets = {j: np.floor(sumd[j][0]/sumd[j][1]) if bestM[j]>0 else np.ceil(sumd[j][0]/sumd[j][1]) for j in bestM}\n",
    "    \n",
    "    delta = {nodesL[i]:targets[clusters[i]]-degL[i] for i in range(len(clusters))}\n",
    "    delta_min = [node for (node,defc) in delta.items() if defc<0]\n",
    "    delta_plus = [node for (node,defc) in delta.items() if defc>0]\n",
    "\n",
    "    Ganon = G.copy()\n",
    "    failureCount = 0 ## ex: delta+ = [vi,vj], and (vi,vj) in E -> no edge addition is possible\n",
    "    ## rn, just produces non anonymous graph\n",
    "    \n",
    "    ## we do random edge selection \n",
    "    while sum(delta.values()) < 0 and failureCount < 20: ## edge deletion\n",
    "        try:\n",
    "            vi,vj = random.sample(delta_min, k=2)\n",
    "            vk = random.choice([vertex for vertex in Ganon.neighbors(vi) if vertex != vj])\n",
    "            vl = random.choice([vertex for vertex in Ganon.neighbors(vj) if vertex != vi and vl not in Ganon.neighbors(vk)])\n",
    "            Ganon.remove_edges_from([(vi,vk),(vj,vl)])\n",
    "            Ganon.add_edge(vk,vl)\n",
    "            delta[vi] += 1 ## - -1\n",
    "            delta[vj] += 1\n",
    "            delta_min = [node for (node,defc) in delta.items() if defc<0]\n",
    "            failureCount=0\n",
    "        except:\n",
    "            failureCount += 1\n",
    "        \n",
    "    while sum(delta.values()) > 0 and failureCount < 20: ## edge addition\n",
    "        try:\n",
    "            vi,vj = random.sample(delta_plus, k=2)\n",
    "            while (vi,vj) in Ganon.edges():\n",
    "                vi,vj = random.sample(delta_plus, k=2)\n",
    "            Ganon.add_edge(vi,vj)\n",
    "            delta[vi] -= 1\n",
    "            delta[vj] -= 1\n",
    "            delta_plus = [node for (node,defc) in delta.items() if defc>0]    ## edge switch\n",
    "            failureCount = 0\n",
    "        except:\n",
    "            failureCount += 1\n",
    "    ## need sigma(dtilde) = sigma(d) = 0\n",
    "    \n",
    "    while sum(np.abs(list(delta.values()))) != 0 and failureCount <20: ## while there are deficits\n",
    "        try:\n",
    "            vi = random.choice(delta_min)\n",
    "            vj = random.choice(delta_plus)\n",
    "            vk = random.choice([v for v in Ganon.neighbors(vi) if v not in Ganon.neighbors(vj) and v != vj])\n",
    "            Ganon.remove_edge(vi,vk)\n",
    "            Ganon.add_edge(vj,vk)\n",
    "            delta[vi] += 1\n",
    "            delta[vj] -= 1\n",
    "            delta_min = [node for (node,defc) in delta.items() if defc<0]\n",
    "            delta_plus = [node for (node,defc) in delta.items() if defc>0]\n",
    "            failureCount = 0\n",
    "        except:\n",
    "            failureCount += 1\n",
    "    return Ganon"
   ]
  },
  {
   "cell_type": "code",
   "execution_count": null,
   "id": "d457912e-d38f-4d9e-95c2-58007241fa43",
   "metadata": {},
   "outputs": [],
   "source": [
    "## Time testing -> v fast for n=1k, 0.02s, "
   ]
  },
  {
   "cell_type": "code",
   "execution_count": 66,
   "id": "74ae6a13-a6b0-44c9-a80b-b7537df46a07",
   "metadata": {},
   "outputs": [],
   "source": [
    "import time"
   ]
  },
  {
   "cell_type": "code",
   "execution_count": 73,
   "id": "d6118078-adf7-43e3-b6cc-299048d6dade",
   "metadata": {},
   "outputs": [],
   "source": [
    "BAG = nx.barabasi_albert_graph(10000, 500)"
   ]
  },
  {
   "cell_type": "code",
   "execution_count": 74,
   "id": "c3765387-2e3b-443e-9adb-193218f1807d",
   "metadata": {},
   "outputs": [
    {
     "name": "stderr",
     "output_type": "stream",
     "text": [
      "/var/folders/wk/bsc_wsqs3ns3xfy7kk02ss8m0000gn/T/ipykernel_29326/3154814199.py:20: RuntimeWarning: invalid value encountered in scalar divide\n",
      "  probs = {j:(1- m[j][0]/(m[j][0]-m[j][1]),1 + m[j][1]/(m[j][0]-m[j][1])) for j in m}\n"
     ]
    },
    {
     "name": "stdout",
     "output_type": "stream",
     "text": [
      "init 4.656896114349365\n",
      "112.75413012504578\n"
     ]
    }
   ],
   "source": [
    "BAGanon = k_degSeq_Anon(BAG)"
   ]
  },
  {
   "cell_type": "markdown",
   "id": "c34fec63-8981-4f79-bffe-050e9130d57d",
   "metadata": {},
   "source": [
    "it took 112 s for 10k nodes w/ h = 500 -> very manageble timeframe"
   ]
  },
  {
   "cell_type": "code",
   "execution_count": null,
   "id": "b30db43b-a892-4561-a8c2-d42628372362",
   "metadata": {},
   "outputs": [],
   "source": []
  },
  {
   "cell_type": "code",
   "execution_count": null,
   "id": "bfac241a-a233-47c8-8c7c-d39c4e3ffabd",
   "metadata": {},
   "outputs": [],
   "source": []
  },
  {
   "cell_type": "code",
   "execution_count": null,
   "id": "9c122853-dd2b-4f10-8341-10fbca935d53",
   "metadata": {},
   "outputs": [],
   "source": []
  },
  {
   "cell_type": "code",
   "execution_count": null,
   "id": "01760908-d283-4fe5-b53b-8523fcd31035",
   "metadata": {},
   "outputs": [],
   "source": []
  }
 ],
 "metadata": {
  "kernelspec": {
   "display_name": "Python 3 (ipykernel)",
   "language": "python",
   "name": "python3"
  },
  "language_info": {
   "codemirror_mode": {
    "name": "ipython",
    "version": 3
   },
   "file_extension": ".py",
   "mimetype": "text/x-python",
   "name": "python",
   "nbconvert_exporter": "python",
   "pygments_lexer": "ipython3",
   "version": "3.11.0"
  }
 },
 "nbformat": 4,
 "nbformat_minor": 5
}
