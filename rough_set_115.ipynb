{
 "cells": [
  {
   "cell_type": "markdown",
   "metadata": {},
   "source": [
    "## Rough Set based Approach\n",
    "\n",
    "Notes: \n",
    "measures accuracy of clustering results using Variation of Information, Normalized Mutual Information, Rand Index, and adjusted Rand Index\n",
    "for accuracy of classificationa and PageRank, use RMSE MAE and MSE\n",
    "- the definitions in the paper do not align with the working example\n",
    "- currently things are based on the implied defs from the working example, as that produced results more consistent with the paper in quick testing\n"
   ]
  },
  {
   "cell_type": "code",
   "execution_count": 35,
   "metadata": {},
   "outputs": [],
   "source": [
    "import numpy as np\n",
    "import networkx as nx\n",
    "from itertools import combinations"
   ]
  },
  {
   "cell_type": "code",
   "execution_count": 4,
   "metadata": {},
   "outputs": [],
   "source": [
    "import time"
   ]
  },
  {
   "cell_type": "code",
   "execution_count": 2,
   "metadata": {},
   "outputs": [],
   "source": [
    "## we use the DD199 graph for testing\n",
    "import pandas as pd\n",
    "DD199 = nx.read_edgelist(\"Data/DD199/DD199.edges\", nodetype=int)\n",
    "\n",
    "## we also consider a 20 node BA graph\n",
    "BAG = nx.barabasi_albert_graph(20,2)"
   ]
  },
  {
   "cell_type": "code",
   "execution_count": 3,
   "metadata": {},
   "outputs": [
    {
     "data": {
      "text/plain": [
       "<dict_keyiterator at 0x119594b80>"
      ]
     },
     "execution_count": 3,
     "metadata": {},
     "output_type": "execute_result"
    }
   ],
   "source": [
    "BAG.neighbors(0)"
   ]
  },
  {
   "cell_type": "code",
   "execution_count": 3,
   "metadata": {},
   "outputs": [],
   "source": [
    "def d_neighborhood(G, d):\n",
    "    '''\n",
    "    Returns a dictionary with as keys the nodes, and as values the d-neighborhood of that node as a set\n",
    "    time complexity of this should be O(n*h^d) where h avg node degree, and d neighborhood size\n",
    "    takes about 1 sec for d=3,4 h = 50, n = 1000, about 10 secs for n=10k d=2, h=100\n",
    "    '''\n",
    "    DDS = {}\n",
    "    for v in G.nodes(): ## gets the d neighborhood of all nodes in G saves in a dict\n",
    "        n0 = {v}\n",
    "        totalset_v = set()\n",
    "        for i in range(d):\n",
    "            n1 = set()\n",
    "            for node in n0:\n",
    "                n1.update(G.neighbors(node))\n",
    "            totalset_v.update(n0)\n",
    "            n0 = n1 - totalset_v\n",
    "        totalset_v.update(n0)\n",
    "        DDS[v] = totalset_v\n",
    "    return DDS"
   ]
  },
  {
   "cell_type": "code",
   "execution_count": null,
   "metadata": {},
   "outputs": [],
   "source": [
    "'''\n",
    "BAG = nx.barabasi_albert_graph(10000,100)\n",
    "for i in range(1, 3):\n",
    "    starttime = time.time()\n",
    "    BAG_d_neigh = d_neighborhood(BAG, i)\n",
    "    print(i, time.time()-starttime)\n",
    "'''"
   ]
  },
  {
   "cell_type": "code",
   "execution_count": 108,
   "metadata": {},
   "outputs": [],
   "source": [
    "def PPGP_v2(G:nx.Graph, delta = 0.2):\n",
    "    '''\n",
    "    Implements the PPGP method from https://doi.org/10.1016/j.eswa.2017.07.010\n",
    "    method is as follows: connectedness subset is 2-neighborhood, \n",
    "    JS between nodes is computed using their neighbors,\n",
    "    '''\n",
    "    ##starttime = time.time()\n",
    "    N1 = {vi: set(G.neighbors(vi)) for vi in G.nodes()}\n",
    "    N2 = d_neighborhood(G,2) ## node: set of N2\n",
    "    JS = {(vi,vj): len(N1[vi].intersection(N1[vj]))/len(N1[vi].union(N1[vj])) for (vi,vj) in combinations(list(G.nodes()),2)}\n",
    "    \n",
    "    JS_sorted = sorted(JS.items(), key = lambda it: it[1], reverse = True)\n",
    "\n",
    "    ##print(\"N1,N2,JS: \",time.time()-starttime)\n",
    "    E = []\n",
    "    Ganon = nx.Graph()\n",
    "    Ganon.add_nodes_from(G.nodes())\n",
    "\n",
    "    ## for all JS > delta, if vi in N2 vj or vice versa, add to edge set\n",
    "    for ((vi,vj), js) in JS_sorted:\n",
    "        if js < delta:\n",
    "            Ganon.add_edges_from(E)\n",
    "            ##print(\"full alg: \",time.time()-starttime)\n",
    "            return Ganon\n",
    "        ## else:\n",
    "        if vi in N2[vj]: ## need to check only one because N2 is symetrical\n",
    "            E.append((vi,vj))\n",
    "    "
   ]
  },
  {
   "cell_type": "code",
   "execution_count": 72,
   "metadata": {
    "jupyter": {
     "source_hidden": true
    }
   },
   "outputs": [],
   "source": [
    "def PPGP(G:nx.Graph, delta = 0.5):\n",
    "    '''\n",
    "    Get the Neighborhood Connected Subset for each vertex, then the Connected Upper Approximation for each vertex\n",
    "    compute the Jaccard similarity of each pair of vertices\n",
    "    get constrained upper approx\n",
    "    reconstruct graph\n",
    "    NOTE: based on the examples with the def in text NOT the implied def from the working example (except for comp. of jaccard similarity)\n",
    "    time complexity should be O(n*avg|Sbar|)\n",
    "    '''\n",
    "    starttime = time.time()\n",
    "    two_neighborhood = d_neighborhood(G, 2)\n",
    "    S = {vi: list(G.neighbors(vi))+[vi] for vi in G.nodes()}\n",
    "    Sbar = {vi: [node for node in two_neighborhood[vi] if node not in S[vi]] for vi in G.nodes()}\n",
    "    ## Sbar is 2neighbors -1neighbors\n",
    "    \n",
    "    ##JS = {(vi,vj): len(set(Sbar[vi]).intersection(Sbar[vj])) / len(set(Sbar[vi]).union(set(Sbar[vj]))) for (vi,vj) in combinations(list(G.nodes()),2)}\n",
    "    ##JS.update({(vj,vi): value for (vi,vj),value in JS.items()})\n",
    "    ##JS.update({(vi,vi): 1.0 for vi in G.nodes()})\n",
    "    JS = {vi:{vj: len(set(G.neighbors(vi)).intersection(G.neighbors(vj))) / len(set(G.neighbors(vi)).union(G.neighbors(vj))) for vj in G.nodes()} for vi in G.nodes()}\n",
    "    Shat = {}\n",
    "    print(time.time()-starttime)\n",
    "    ## maybe can be by computing only the intersection ofr the union\n",
    "    ## in the kitegraph example of the text the jaccard similarity between two vertices is given by their neighbors\n",
    "\n",
    "    ## this part is also a massive time sink\n",
    "    for vi in G.nodes():\n",
    "        myset_vi = set()\n",
    "        for vl in Sbar[vi]:\n",
    "            myset_vi.update([vj for vj in Sbar[vl] if JS[vi][vj] >= delta])\n",
    "        Shat[vi] = myset_vi\n",
    "    \n",
    "    myedgelist = []\n",
    "    for vi in G.nodes():\n",
    "        for vj in Shat[vi]:\n",
    "            if vi != vj:\n",
    "                myedgelist.append((vi,vj))\n",
    "    print(time.time()-starttime)\n",
    "    \n",
    "    anonG = nx.Graph()\n",
    "    anonG.add_nodes_from(G.nodes())\n",
    "    anonG.add_edges_from(myedgelist)\n",
    "    print(time.time()-starttime)\n",
    "    return anonG"
   ]
  },
  {
   "cell_type": "code",
   "execution_count": 91,
   "metadata": {},
   "outputs": [
    {
     "name": "stdout",
     "output_type": "stream",
     "text": [
      "N1,N2,JS:  0.030274152755737305\n",
      "full alg:  0.03274393081665039\n"
     ]
    }
   ],
   "source": [
    "##BAG = nx.barabasi_albert_graph(100,5)\n",
    "## 7s for n=1k, avgDeg=h=2, 0.07s for n=100 h=2, 0.2s for n=100, h=20\n",
    "## O(n^2)\n",
    "##BAGanon = PPGP_v2(BAG)\n",
    "## initialization is the time sink\n",
    "## took 18s with fix, 37 without for 1k, h=20\n",
    "## 0.03s n=100 h=2, 1.68s n=1000 h=2, 50s n=1k h=20 -> still O(n^2)\n",
    "## v2: time sink is still the initialization still O(n^2) but faster now\n",
    "## 1.2s n=1k h=20, 103s n=10k h=20 -> no edges added"
   ]
  },
  {
   "cell_type": "code",
   "execution_count": 59,
   "metadata": {},
   "outputs": [],
   "source": [
    "KiteGraph = nx.Graph()\n",
    "KG_edges = [(1,2),(1,3),(1,4),(1,6),\n",
    "            (2,4),(2,5),(2,7),\n",
    "            (3,4),(3,6),\n",
    "            (4,5),(4,6),(4,7),\n",
    "            (5,7),\n",
    "            (6,7),(6,8),\n",
    "            (7,8),\n",
    "            (8,9),\n",
    "            (9,10)]\n",
    "KiteGraph.add_edges_from(KG_edges)"
   ]
  },
  {
   "cell_type": "code",
   "execution_count": 72,
   "metadata": {},
   "outputs": [],
   "source": [
    "##KG_anon = PPGP(KiteGraph, 0.25)"
   ]
  },
  {
   "cell_type": "code",
   "execution_count": 70,
   "metadata": {},
   "outputs": [],
   "source": [
    "def PPGPworkingEx(G:nx.Graph, delta = 0.2):\n",
    "    '''\n",
    "    Returns the anonymized graph based on the implied definitions from the working example\n",
    "    that is the KiteGraph example\n",
    "    '''\n",
    "    Sbar = d_neighborhood(G, 2)\n",
    "    JS = {vi:{vj: len(set(G.neighbors(vi)).intersection(G.neighbors(vj))) / len(set(G.neighbors(vi)).union(G.neighbors(vj))) for vj in G.nodes()} for vi in G.nodes()}\n",
    "    Shat = {}\n",
    "    for vi in G.nodes():\n",
    "        myset_vi = set()\n",
    "        for vl in Sbar[vi]:\n",
    "            myset_vi.update([vj for vj in Sbar[vl] if JS[vi][vj] >= delta])\n",
    "        Shat[vi] = myset_vi\n",
    "\n",
    "    anonG = nx.Graph()\n",
    "    anonG.add_nodes_from(G.nodes())\n",
    "\n",
    "    for vi in G.nodes():\n",
    "        for vj in Shat[vi]:\n",
    "            if vi != vj:\n",
    "                anonG.add_edge(vi,vj)\n",
    "\n",
    "    return anonG"
   ]
  },
  {
   "cell_type": "markdown",
   "metadata": {},
   "source": [
    "## Check based on PageRank results what method is used in the paper\n",
    "\n",
    "based on a fairly quick check with the Zachary dataset, the code based on the working example produces more sensible results\n",
    " - the error increased (fairly) consistently as delta increased."
   ]
  },
  {
   "cell_type": "code",
   "execution_count": 73,
   "metadata": {},
   "outputs": [
    {
     "name": "stdout",
     "output_type": "stream",
     "text": [
      "0.0014362335205078125\n",
      "0.0020842552185058594\n",
      "0.002315044403076172\n",
      "0.0013630390167236328\n",
      "0.0019292831420898438\n",
      "0.0021321773529052734\n",
      "0.0013649463653564453\n",
      "0.0018820762634277344\n",
      "0.00197601318359375\n",
      "0.0014750957489013672\n",
      "0.0019910335540771484\n",
      "0.002054929733276367\n",
      "0.0013308525085449219\n",
      "0.0017898082733154297\n",
      "0.0018358230590820312\n",
      "0.0013387203216552734\n",
      "0.0017757415771484375\n",
      "0.0018496513366699219\n",
      "0.0013871192932128906\n",
      "0.001811981201171875\n",
      "0.0018510818481445312\n",
      "0.0013430118560791016\n",
      "0.0017828941345214844\n",
      "0.001817941665649414\n",
      "0.001390218734741211\n",
      "0.0017809867858886719\n",
      "0.0018019676208496094\n",
      "0.0012650489807128906\n",
      "0.001653909683227539\n",
      "0.0016748905181884766\n"
     ]
    }
   ],
   "source": [
    "## compute PageRank of the same network they used\n",
    "\n",
    "## import Zachary Friendship network\n",
    "from scipy.io import mmread\n",
    "karate_data = mmread(\"../Data/soc-karate/soc-karate.mtx\")\n",
    "karate = nx.Graph(karate_data)\n",
    "\n",
    "karate_workingEx = {}\n",
    "for i in range(1,11):\n",
    "    karate_workingEx[i] = PPGPworkingEx(karate, i*0.1)\n",
    "\n",
    "karate_anon = {}\n",
    "for i in range(1,11):\n",
    "    karate_anon[i] = PPGP(karate, i*0.1)"
   ]
  },
  {
   "cell_type": "code",
   "execution_count": 74,
   "metadata": {},
   "outputs": [],
   "source": [
    "pr_karate = list(nx.pagerank(karate).values())\n",
    "\n",
    "pr_k_workingEx = {}\n",
    "pr_k_anon = {}\n",
    "for i in range(1,11):\n",
    "    pr_k_workingEx[i] = list(nx.pagerank(karate_workingEx[i]).values())\n",
    "    pr_k_anon[i] = list(nx.pagerank(karate_anon[i]).values())"
   ]
  },
  {
   "cell_type": "code",
   "execution_count": 75,
   "metadata": {},
   "outputs": [],
   "source": [
    "from sklearn.metrics import root_mean_squared_error, mean_absolute_error, mean_squared_error"
   ]
  },
  {
   "cell_type": "code",
   "execution_count": 76,
   "metadata": {},
   "outputs": [],
   "source": [
    "RMSE_anon = []\n",
    "RMSE_wEx = []\n",
    "MAE_anon = []\n",
    "MAE_wEx = []\n",
    "MSE_anon = []\n",
    "MSE_wEx = []\n",
    "for i in range(1,11):\n",
    "    RMSE_anon.append(root_mean_squared_error(pr_karate, pr_k_anon[i]))\n",
    "    RMSE_wEx.append(root_mean_squared_error(pr_karate, pr_k_workingEx[i]))\n",
    "    MAE_anon.append(mean_absolute_error(pr_karate, pr_k_anon[i]))\n",
    "    MAE_wEx.append(mean_absolute_error(pr_karate, pr_k_workingEx[i]))\n",
    "    MSE_anon.append(mean_squared_error(pr_karate, pr_k_anon[i]))\n",
    "    MSE_wEx.append(mean_squared_error(pr_karate, pr_k_workingEx[i]))"
   ]
  },
  {
   "cell_type": "code",
   "execution_count": 77,
   "metadata": {},
   "outputs": [
    {
     "data": {
      "image/png": "[encoded data removed]",
      "text/plain": [
       "<Figure size 640x480 with 1 Axes>"
      ]
     },
     "metadata": {},
     "output_type": "display_data"
    }
   ],
   "source": [
    "import matplotlib.pyplot as plt\n",
    "\n",
    "x = list(range(1,11))\n",
    "x = [a*0.1 for a in x]\n",
    "\n",
    "# plot lines\n",
    "plt.plot(x, RMSE_anon, label = \"RMSE anon\")\n",
    "plt.plot(x, MAE_anon, label = \"MAE anon\")\n",
    "plt.plot(x, MSE_anon, label = \"MSE anon\")\n",
    "plt.ylim(0, 0.05)\n",
    "plt.legend()\n",
    "plt.show()"
   ]
  },
  {
   "cell_type": "code",
   "execution_count": 78,
   "metadata": {},
   "outputs": [
    {
     "data": {
      "image/png": "[encoded data removed]",
      "text/plain": [
       "<Figure size 640x480 with 1 Axes>"
      ]
     },
     "metadata": {},
     "output_type": "display_data"
    }
   ],
   "source": [
    "x = list(range(1,11))\n",
    "x = [a*0.1 for a in x]\n",
    "\n",
    "# plot lines\n",
    "plt.plot(x, RMSE_wEx, label = \"RMSE anon\")\n",
    "plt.plot(x, MAE_wEx, label = \"MAE anon\")\n",
    "plt.plot(x, MSE_wEx, label = \"MSE anon\")\n",
    "plt.ylim(0, 0.05)\n",
    "plt.legend()\n",
    "plt.show()"
   ]
  },
  {
   "cell_type": "code",
   "execution_count": null,
   "metadata": {},
   "outputs": [],
   "source": []
  }
 ],
 "metadata": {
  "kernelspec": {
   "display_name": "Python 3 (ipykernel)",
   "language": "python",
   "name": "python3"
  },
  "language_info": {
   "codemirror_mode": {
    "name": "ipython",
    "version": 3
   },
   "file_extension": ".py",
   "mimetype": "text/x-python",
   "name": "python",
   "nbconvert_exporter": "python",
   "pygments_lexer": "ipython3",
   "version": "3.11.0"
  }
 },
 "nbformat": 4,
 "nbformat_minor": 4
}
