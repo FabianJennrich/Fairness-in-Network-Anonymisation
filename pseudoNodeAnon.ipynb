{
 "cells": [
  {
   "cell_type": "markdown",
   "metadata": {},
   "source": [
    "## k-anonymisation with pseudo nodes\n",
    "    - referenced and used in KDVEM_126\n",
    "    - DOI 10.1007/s13278-012-0084-6\n",
    "\n",
    "vertex addition approach for k-P anonymisation -> where P is some structural property -> main result seems to be for P = degree\n",
    "Ganon contains G as an induced subgraph O(nk) time O(n) space\n",
    "three stages\n",
    "    - recursion to group vertices by target degree, evaluated using dynamic programming\n",
    "    - determine how many vertices we want to add\n",
    "    - add new edges -> guarantee tractibility"
   ]
  },
  {
   "cell_type": "code",
   "execution_count": 1,
   "metadata": {},
   "outputs": [],
   "source": [
    "import numpy as np\n",
    "import networkx as nx\n",
    "import random\n",
    "\n",
    "## we use the DD199 graph for testing\n",
    "import pandas as pd\n",
    "DD199 = nx.read_edgelist(\"Data/DD199/DD199.edges\", nodetype=int)\n",
    "\n",
    "BAG = nx.barabasi_albert_graph(20,2)"
   ]
  },
  {
   "cell_type": "code",
   "execution_count": 23,
   "metadata": {},
   "outputs": [],
   "source": [
    "def Start_unspec(degSeq,start,cost, k, x):\n",
    "    ''' rightmost partition is given by [Start(x), x], next is given by [Start(Start(x)-1), Start(x)-1]\n",
    "    where x is an index position\n",
    "    '''\n",
    "    if start[x] == None:\n",
    "        if x < 2*k:\n",
    "            start[x] =  1    ## bc we have constructed the indexing s.t. 0 should not be reached\n",
    "        else:\n",
    "            start[x] = Pos_Split_unspec(degSeq,start,cost, k, x)\n",
    "    return start[x]\n",
    "\n",
    "def Pos_Split_unspec(degSeq,start,cost, k, x):\n",
    "    '''argmin over i in [max(k,x-2k+1), x-k]    of max(Cost(1,i-1), delta(i,x))\n",
    "    assume that argmin returns maximal point at which a function is minimised (i.e. largest index)\n",
    "    NOTE: condiditon to enter is x>=2k'''\n",
    "    myiterator = list(range(x-k, max(k,x- 2*k +1)-1, -1))  ## we go in reverse order, so that we get maximal pt where func is min.\n",
    "    ## want i, not the actual argmin so:\n",
    "    return myiterator[np.argmin([max(Cost_unspecified(degSeq,start,cost, k, 1, i-1), delta_unspecified(degSeq, i, x)) for i in myiterator])]\n",
    "\n",
    "def delta_unspecified(degSeq, x, y):\n",
    "    '''return dx - dy\n",
    "    where x and y are positions in the deg sequence, counting from the right\n",
    "    degSeq = [(node,maxdeg),...,(node,mindeg)]'''\n",
    "    return degSeq[x][1] - degSeq[y][1]  ## there will be an error if it ever tries to use the 0 index\n",
    "\n",
    "def Cost_unspecified(degSeq,start,cost, k, _, x):\n",
    "    '''delta(1,x) if x<2k, Cost_Split if x>=2k'''\n",
    "    if cost[x] == None:\n",
    "        if x < 2*k:\n",
    "            cost[x] = delta_unspecified(degSeq, 1, x)\n",
    "        else:\n",
    "            cost[x] = Cost_Split_unspec(degSeq,start,cost, k, x)\n",
    "    return cost[x]\n",
    "\n",
    "def Cost_Split_unspec(degSeq,start,cost, k, x):\n",
    "    '''minimum over i in [max(k, x-2k+1), x-k]      of (max(Cost(1,i-1), delta(i,x)))\n",
    "    NOTE: condiditon for entering is k >= 2k'''\n",
    "    myiterator = list(range(max(k, x-2*k+1), x-k+1)) ## want to include x-k so we have to use x-k+1\n",
    "    return min([max(Cost_unspecified(degSeq,start,cost, k, 1, i-1), delta_unspecified(degSeq, i, x)) for i in myiterator])\n",
    "\n",
    "## we want to memorize the results after each iteration (Cost, and Start)\n",
    "## input vectors cost and start for each of them\n",
    "## add try except loop"
   ]
  },
  {
   "cell_type": "code",
   "execution_count": 28,
   "metadata": {},
   "outputs": [],
   "source": [
    "def pseudoNodeAnon(G:nx.Graph, k=None):\n",
    "    '''\n",
    "    create recursion on deg sequence, minimise max deficiency\n",
    "    incremental alg that goes left to right (assumes 1 indexing) on the deg sequence\n",
    "    adds the next xth rightmost degree and get best k-partitioning. if there are < 2k degs in sequence, then only 1 partition\n",
    "    NOTE: the largest degree nodes are likely to be only k-1 anonymous -> unclear why and I cannot find a fix\n",
    "    '''\n",
    "    starttime = time.time()\n",
    "    if k == None:\n",
    "        k = 10  ##int(G.number_of_nodes()/10)\n",
    "    Ganon = G.copy()\n",
    "    d = dict(G.degree())\n",
    "    degSeq = sorted(d.items(), key = lambda item : item[1], reverse=True)  ## list of (node, degree)\n",
    "    if len(degSeq) < 2*k:\n",
    "        degDef = {node[0]:degSeq[0][1] - node[1] for node in degSeq}\n",
    "        ##md = Cost_unspecified(degSeq,k,1,i)\n",
    "        md = degSeq[0][1] - degSeq[-1][1] ## difference between largest and smallest degrees\n",
    "    else:\n",
    "        degSeqGrouped = []\n",
    "        i = G.number_of_nodes()\n",
    "        ##td = (2*k-1)*(i-1)\n",
    "        degSeq = [0] + degSeq\n",
    "        ##md = Cost_unspecified(degSeq,k,1,i)\n",
    "        cost = [None for i in degSeq] ## list of length n, with None as values\n",
    "        start = [None for i in degSeq]## list of length n, with None as values\n",
    "        while i>1:\n",
    "            starti = Start_unspec(degSeq,start,cost,k,i)\n",
    "            degSeqGrouped.append(degSeq[starti:i+1])    ## need to add 1, b/c we want to include i  ## can add [::-1] to reverse this if we want\n",
    "            i = starti - 1\n",
    "        degDef = {partition[j][0]:partition[0][1]-partition[j][1] for partition in degSeqGrouped for j in range(len(partition))}\n",
    "        degSeq = degSeq[1:]\n",
    "        md = max(degDef.values()) ## maximum deficiency\n",
    "        ##  partition is [(node,maxdeg),...,(node,mindeg))] so degDef is nodej: maxdeg-degj\n",
    "    ##print(\"grouping: \",time.time() -starttime)\n",
    "    newNodes = list(range(G.number_of_nodes(), G.number_of_nodes() + (1+max(md,k)%2 + max(md,k))))\n",
    "    Ganon.add_nodes_from(newNodes) ## add [n,...,n+m] to [0,...,n-1]\n",
    "    \n",
    "    \n",
    "    ## iterate through new nodes, and add edge to old nodes -> cycle through these slower\n",
    "    newNodeID = 0\n",
    "    for (node, deg) in degSeq:\n",
    "        for i in range(degDef[node]):\n",
    "            Ganon.add_edge(node, newNodes[newNodeID%len(newNodes)])\n",
    "            newNodeID +=1\n",
    "    d = int(newNodeID/len(newNodes)) + 1\n",
    "    targetDeg = [partition[0][1] for partition in degSeqGrouped]\n",
    "    if (d in targetDeg and d-1 in targetDeg) or newNodeID == 0: ## also k-anon if all have same deg\n",
    "        return Ganon\n",
    "    ## vertices with deg d-1 pair them and add an edge between them\n",
    "    leftoverNodes = newNodes[newNodeID%len(newNodes):]      ## list of length m-td mod m with nodes of degree d-1\n",
    "    random.shuffle(leftoverNodes)\n",
    "    for i in range(0,len(leftoverNodes)-1,2):\n",
    "        Ganon.add_edge(leftoverNodes[i],leftoverNodes[i+1])\n",
    "    ## that is [newNodeID to end of list] of new nodes -> if m-td mod m is even and m >= k then we are done\n",
    "    if len(leftoverNodes)%2 ==0:\n",
    "        return Ganon\n",
    "    ## if m-td mod d is odd, then we leave out 1 vertex -> m-1 even and >=k \n",
    "    ## add an edge from r to two other new vertices (from full list) -> have degree d+1\n",
    "    edgesDeg_d = newNodes[0:newNodeID%len(newNodes)] + leftoverNodes[:-1]   ## all but the last element\n",
    "    random.shuffle(edgesDeg_d)\n",
    "    Ganon.add_edges_from([(leftoverNodes[-1],edgesDeg_d[0]),(leftoverNodes[-1],edgesDeg_d[1])])\n",
    "    for i in range(2,len(edgesDeg_d)-1,2):  ## pair off, but els 0 and 1 are already taken\n",
    "        Ganon.add_edge(edgesDeg_d[i],edgesDeg_d[i+1])\n",
    "    return Ganon"
   ]
  },
  {
   "cell_type": "markdown",
   "metadata": {},
   "source": [
    "### Testing"
   ]
  },
  {
   "cell_type": "code",
   "execution_count": 5,
   "metadata": {},
   "outputs": [],
   "source": [
    "import time"
   ]
  },
  {
   "cell_type": "code",
   "execution_count": 6,
   "metadata": {},
   "outputs": [],
   "source": [
    "HBA_1k_82 = nx.read_gml(\"../Data/HBA/n1000_r[0.8, 0.2]_h0.2.gml\")\n",
    "HBA_1k_73 = nx.read_gml(\"../Data/HBA/n1000_r[0.7, 0.3]_h0.2.gml\")"
   ]
  },
  {
   "cell_type": "code",
   "execution_count": 29,
   "metadata": {},
   "outputs": [
    {
     "name": "stdout",
     "output_type": "stream",
     "text": [
      "grouping:  0.0015261173248291016\n"
     ]
    }
   ],
   "source": [
    "BAG = nx.barabasi_albert_graph(100,2)\n",
    "BAGanon = pseudoNodeAnon(BAG)"
   ]
  },
  {
   "cell_type": "code",
   "execution_count": 30,
   "metadata": {},
   "outputs": [
    {
     "name": "stdout",
     "output_type": "stream",
     "text": [
      "grouping:  0.0002999305725097656\n"
     ]
    }
   ],
   "source": [
    "BAG = nx.barabasi_albert_graph(20,2)\n",
    "BAGanon = pseudoNodeAnon(BAG)"
   ]
  },
  {
   "cell_type": "code",
   "execution_count": 31,
   "metadata": {},
   "outputs": [
    {
     "name": "stdout",
     "output_type": "stream",
     "text": [
      "grouping:  0.03855395317077637\n"
     ]
    }
   ],
   "source": [
    "HBA_1k_82_anon = pseudoNodeAnon(HBA_1k_82)\n",
    "nx.write_adjlist(HBA_1k_82_anon, '../anonymisedGraphs/HBA_1k_82_pseudoNode_08-06')"
   ]
  },
  {
   "cell_type": "code",
   "execution_count": 32,
   "metadata": {},
   "outputs": [
    {
     "name": "stdout",
     "output_type": "stream",
     "text": [
      "grouping:  0.04119873046875\n"
     ]
    }
   ],
   "source": [
    "HBA_1k_73_anon = pseudoNodeAnon(HBA_1k_73)\n",
    "nx.write_adjlist(HBA_1k_73_anon, '../anonymisedGraphs/HBA_1k_73_pseudoNode_08-06')"
   ]
  },
  {
   "cell_type": "code",
   "execution_count": null,
   "metadata": {},
   "outputs": [],
   "source": []
  }
 ],
 "metadata": {
  "kernelspec": {
   "display_name": "Python 3 (ipykernel)",
   "language": "python",
   "name": "python3"
  },
  "language_info": {
   "codemirror_mode": {
    "name": "ipython",
    "version": 3
   },
   "file_extension": ".py",
   "mimetype": "text/x-python",
   "name": "python",
   "nbconvert_exporter": "python",
   "pygments_lexer": "ipython3",
   "version": "3.11.0"
  }
 },
 "nbformat": 4,
 "nbformat_minor": 4
}
